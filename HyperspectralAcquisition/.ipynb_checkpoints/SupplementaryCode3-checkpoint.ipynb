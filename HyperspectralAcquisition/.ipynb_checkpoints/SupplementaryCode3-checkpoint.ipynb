{
 "cells": [
  {
   "cell_type": "markdown",
   "metadata": {},
   "source": [
    "### Box 6, Step 1\t\n",
    "Batch-process the data set into x-y-image files organized into a hypercube with z, λ, and t encoded as axis labels. To reduce the size of the resulting data set and speed up to subsequent steps, we have implemented a keyword argument that allows binning (Supplementary Code 3, Cell 1). "
   ]
  },
  {
   "cell_type": "code",
   "execution_count": 1,
   "metadata": {},
   "outputs": [
    {
     "ename": "ModuleNotFoundError",
     "evalue": "No module named 'pims'",
     "output_type": "error",
     "traceback": [
      "\u001b[1;31m---------------------------------------------------------------------------\u001b[0m",
      "\u001b[1;31mModuleNotFoundError\u001b[0m                       Traceback (most recent call last)",
      "\u001b[1;32m<ipython-input-1-e77935e30858>\u001b[0m in \u001b[0;36m<module>\u001b[1;34m\u001b[0m\n\u001b[1;32m----> 1\u001b[1;33m \u001b[1;32mfrom\u001b[0m \u001b[0mhyperspectralTracking\u001b[0m \u001b[1;32mimport\u001b[0m \u001b[1;33m*\u001b[0m \u001b[1;31m#tracking data class and dependencies\u001b[0m\u001b[1;33m\u001b[0m\u001b[1;33m\u001b[0m\u001b[0m\n\u001b[0m\u001b[0;32m      2\u001b[0m \u001b[1;33m\u001b[0m\u001b[0m\n\u001b[0;32m      3\u001b[0m \u001b[1;31m#just for style\u001b[0m\u001b[1;33m\u001b[0m\u001b[1;33m\u001b[0m\u001b[1;33m\u001b[0m\u001b[0m\n\u001b[0;32m      4\u001b[0m \u001b[0mdisplay\u001b[0m\u001b[1;33m(\u001b[0m\u001b[0mHTML\u001b[0m\u001b[1;33m(\u001b[0m\u001b[1;34m\"<style>.container { width:80% !important; }</style>\"\u001b[0m\u001b[1;33m)\u001b[0m\u001b[1;33m)\u001b[0m\u001b[1;33m\u001b[0m\u001b[1;33m\u001b[0m\u001b[0m\n\u001b[0;32m      5\u001b[0m \u001b[1;33m\u001b[0m\u001b[0m\n",
      "\u001b[1;32m~\\Desktop\\FDTD-modelling-master\\sphyncs\\HyperspectralAcquisition\\hyperspectralTracking.py\u001b[0m in \u001b[0;36m<module>\u001b[1;34m\u001b[0m\n\u001b[0;32m      1\u001b[0m \u001b[1;32mfrom\u001b[0m \u001b[0macquisitionExtended\u001b[0m \u001b[1;32mimport\u001b[0m \u001b[1;33m*\u001b[0m \u001b[1;31m#processing data class and dependencies\u001b[0m\u001b[1;33m\u001b[0m\u001b[1;33m\u001b[0m\u001b[0m\n\u001b[0;32m      2\u001b[0m \u001b[1;32mfrom\u001b[0m \u001b[0mpandas\u001b[0m \u001b[1;32mimport\u001b[0m \u001b[0mDataFrame\u001b[0m\u001b[1;33m,\u001b[0m \u001b[0mSeries\u001b[0m\u001b[1;33m,\u001b[0m \u001b[0mread_csv\u001b[0m  \u001b[1;31m# for convenience\u001b[0m\u001b[1;33m\u001b[0m\u001b[1;33m\u001b[0m\u001b[0m\n\u001b[1;32m----> 3\u001b[1;33m \u001b[1;32mimport\u001b[0m \u001b[0mpims\u001b[0m\u001b[1;33m\u001b[0m\u001b[1;33m\u001b[0m\u001b[0m\n\u001b[0m\u001b[0;32m      4\u001b[0m \u001b[1;32mimport\u001b[0m \u001b[0mtrackpy\u001b[0m \u001b[1;32mas\u001b[0m \u001b[0mtp\u001b[0m\u001b[1;33m\u001b[0m\u001b[1;33m\u001b[0m\u001b[0m\n\u001b[0;32m      5\u001b[0m \u001b[1;32mfrom\u001b[0m \u001b[0mzipfile\u001b[0m \u001b[1;32mimport\u001b[0m \u001b[0mZipFile\u001b[0m\u001b[1;33m\u001b[0m\u001b[1;33m\u001b[0m\u001b[0m\n",
      "\u001b[1;31mModuleNotFoundError\u001b[0m: No module named 'pims'"
     ]
    }
   ],
   "source": [
    "from hyperspectralTracking import * #tracking data class and dependencies\n",
    "\n",
    "#just for style\n",
    "display(HTML(\"<style>.container { width:80% !important; }</style>\"))\n",
    "\n",
    "#define location and name of dataset\n",
    "directoryName='D:\\\\Protocol_SICode3\\\\'\n",
    "logName='Log_2022-12-08_07-09AM_toShare.txt'\n",
    "dataName='Keras3-Scan0-'\n",
    "\n",
    "#create an instance of the acquisition class to run the auto-calibration routine\n",
    "Scan0=acquisition(directoryName, dataName)\n",
    "Scan0.autoCalibrate(logName, FOV50=693.54)\n",
    "\n",
    "#create a folder called 'processedND' in your working directory prior to running this\n",
    "#batch-process the stack. binning can be applied to reduce the output file size and improve SNR\n",
    "Scan0.batchProcessND(nBin=np.array([3, 3, 4, 2]), upLim=200, lowLim=5) #nBin=[bin_x, bin_y, bin_w, bin_z]"
   ]
  },
  {
   "cell_type": "markdown",
   "metadata": {},
   "source": [
    "### Step 2\t\n",
    "Add all processed files to a .zip folder by specifying source directory and filename identifier (Supplementary Code 3, Cell 2). You can now delete the batch-processed images from the directory.\n",
    "\n",
    "▲ CRITICAL Ensure no additional files with the same filename identifier are in the working directory."
   ]
  },
  {
   "cell_type": "code",
   "execution_count": null,
   "metadata": {},
   "outputs": [],
   "source": [
    "directory=Scan0.directory+'processedND\\\\'\n",
    "file = directory+\"I_total.zip\"  # zip file name\n",
    "with ZipFile(file, 'w') as zip:\n",
    "    for path, directories, files in os.walk(directory):\n",
    "        for file in files:\n",
    "            file_name = os.path.join(path, file)\n",
    "            if (Scan0.name+'Imap') in file_name:\n",
    "                zip.write(file_name) # zipping the file"
   ]
  },
  {
   "cell_type": "markdown",
   "metadata": {},
   "source": [
    "### Step 3\t\n",
    "Feed the .zip folder into the ND tracking algorithm TrackPY53 and run the batch-autodetection. The 'batch' method detects objects at each individual timestep by grouping pixels with similar positional and wavelength values into one object (Supplementary Code 3, Cell 3)."
   ]
  },
  {
   "cell_type": "code",
   "execution_count": null,
   "metadata": {},
   "outputs": [],
   "source": [
    "#load the data as ND image sequence\n",
    "frames = pims.ImageSequenceND(r'D:\\\\Data for Protocol\\\\SI Code 3\\\\toShare\\\\processedND\\\\I_total.zip', axes_identifiers = ['z','w','t'])\n",
    "frames.bundle_axes = ['w','z', 'y', 'x']\n",
    "frames"
   ]
  },
  {
   "cell_type": "markdown",
   "metadata": {},
   "source": [
    "### Step 4\t\n",
    "Run the linking algorithm to track the detected objects across multiple timesteps and export the results as Excel spreadsheet (Supplementary Code 3, Cell 4). The algorithm will return the tracked centroids of objects in the x-y-z-λ-t parameter space."
   ]
  },
  {
   "cell_type": "code",
   "execution_count": null,
   "metadata": {},
   "outputs": [],
   "source": [
    "#features = tp.locate(frames[0], diameter=(3, 5, 5, 3))\n",
    "f = tp.batch(frames, diameter=(3, 3, 3, 3), characterize=False)\n",
    "\n",
    "#set some weights and spatial characteristics\n",
    "weight=0.0001\n",
    "f['xum'] = f['x3'] * Scan0.xStep * 3\n",
    "f['yum'] = f['x2'] * Scan0.yStep * 3 \n",
    "f['zum'] = f['x1'] * Scan0.zStep * 2\n",
    "f['wum'] = f['x0'] * weight\n",
    "\n",
    "#link the tracked objects and save the results\n",
    "tolerance=30\n",
    "linked = tp.link_df(f, tolerance, pos_columns=['xum', 'yum', 'zum', 'wum'])\n",
    "linked.to_csv(Scan0.directory+Scan0.name+'NDtrack.csv')"
   ]
  },
  {
   "cell_type": "markdown",
   "metadata": {},
   "source": [
    "### Step 5\t\n",
    "Create an instance of the trackingData class, which organizes the output from the tracking algorithm, using the name of the tracking data file as an input argument, and the acquisition object created during Box 6, Step 1 (Supplementary Code 3, Cell 5)."
   ]
  },
  {
   "cell_type": "code",
   "execution_count": null,
   "metadata": {},
   "outputs": [],
   "source": [
    "area=0\n",
    "#read the tracking results from the organized csv file\n",
    "linked=read_csv(Scan0.directory+Scan0.name+'NDtrack.csv')\n",
    "databaseND=trackDataND(linked,Scan0, name='A{}_ND'.format(area))"
   ]
  },
  {
   "cell_type": "markdown",
   "metadata": {},
   "source": [
    "### Step 6\n",
    "Display trajectories as images or extract traces of position or wavelength of individual tracked LPs (Supplementary Code 3, Cell 6)."
   ]
  },
  {
   "cell_type": "code",
   "execution_count": null,
   "metadata": {},
   "outputs": [],
   "source": [
    "length=4\n",
    "databaseND.plotTrajs(Scan0, minLen=length, colorCode='wL', nBin=[3,3,4,2])\n",
    "databaseND.plotTrajs(Scan0, minLen=length, colorCode='time', nBin=[3,3,4,2])"
   ]
  },
  {
   "cell_type": "code",
   "execution_count": null,
   "metadata": {
    "scrolled": false
   },
   "outputs": [],
   "source": [
    "#example of upward migrating cell in skin layer\n",
    "LPi=databaseND.disks['A0_ND2']\n",
    "LPi.plotTraj(Scan0, ax0='z')\n",
    "LPi.plotXY(Scan0, colorCode='time', nBin=[3,3,4,2])\n",
    "\n",
    "#example of stationary cell in skin layer\n",
    "LPi=databaseND.disks['A0_ND5']\n",
    "LPi.plotTraj(Scan0, ax0='z')\n",
    "LPi.plotXY(Scan0, colorCode='time', nBin=[3,3,4,2])\n"
   ]
  }
 ],
 "metadata": {
  "kernelspec": {
   "display_name": "Python 3",
   "language": "python",
   "name": "python3"
  },
  "language_info": {
   "codemirror_mode": {
    "name": "ipython",
    "version": 3
   },
   "file_extension": ".py",
   "mimetype": "text/x-python",
   "name": "python",
   "nbconvert_exporter": "python",
   "pygments_lexer": "ipython3",
   "version": "3.8.5"
  }
 },
 "nbformat": 4,
 "nbformat_minor": 5
}
